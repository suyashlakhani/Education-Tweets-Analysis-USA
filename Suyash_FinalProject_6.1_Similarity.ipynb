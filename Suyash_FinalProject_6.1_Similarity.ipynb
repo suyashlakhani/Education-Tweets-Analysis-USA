{
 "cells": [
  {
   "cell_type": "code",
   "execution_count": 1,
   "id": "ed37172e-7662-4c46-8383-36173b619654",
   "metadata": {},
   "outputs": [
    {
     "name": "stderr",
     "output_type": "stream",
     "text": [
      "22/12/07 08:44:38 WARN org.apache.spark.sql.catalyst.util.package: Truncated the string representation of a plan since it was too large. This behavior can be adjusted by setting 'spark.sql.debug.maxToStringFields'.\n"
     ]
    }
   ],
   "source": [
    "data_final = spark.read.parquet(\"gs://msca-bdp-students-bucket/shared_data/suyashlakhani/tweets2\")"
   ]
  },
  {
   "cell_type": "markdown",
   "id": "113ca5f1-db6f-43ca-b82a-b44a0050854c",
   "metadata": {},
   "source": [
    "**6. How unique are the messages?**\n",
    "\n",
    "**6.1 Are they mostly unique? Or usually people are just copy-pasting the same text?**\n",
    "\n",
    "**6.2 You can use something like Jaccard similarity / Cosine Similarity / Simhash / Minhash to measure uniqueness / similarity**"
   ]
  },
  {
   "cell_type": "code",
   "execution_count": 2,
   "id": "3e025155-5f92-4e5b-95fd-7d290653f0b7",
   "metadata": {
    "scrolled": true,
    "tags": []
   },
   "outputs": [],
   "source": [
    "import os\n",
    "import shutil\n",
    "from itertools import islice\n",
    "import requests\n",
    "\n",
    "import pandas as pd\n",
    "import matplotlib.pyplot as plt\n",
    "\n",
    "import findspark\n",
    "findspark.init()\n",
    "\n",
    "from pyspark.sql import SparkSession\n",
    "from pyspark.sql.functions import *\n",
    "from pyspark.sql import functions as F\n",
    "from pyspark.sql.types import *\n",
    "import re\n",
    "from pyspark.ml.feature import MinHashLSH\n",
    "from pyspark.ml.feature import CountVectorizer,  IDF, CountVectorizerModel, Tokenizer, RegexTokenizer, StopWordsRemover\n",
    "from pyspark import SparkContext\n",
    "from pyspark.sql import SQLContext\n",
    "from pyspark.sql import Row\n",
    "import nltk\n",
    "nltk.download('stopwords')\n",
    "from nltk.corpus import stopwords\n",
    "\n",
    "# Create spark_session\n",
    "spark = SparkSession.builder.getOrCreate()\n",
    "conf = spark.sparkContext._conf.setAll([('spark.executor.memory', '32g'), ('spark.app.name', 'Spark Updated Conf'), \n",
    "                                        ('spark.executor.cores', '32'), ('spark.cores.max', '32'), ('spark.driver.memory','32g')])\n",
    "spark.sparkContext.getConf().getAll()\n",
    "\n",
    "from IPython.display import clear_output\n",
    "clear_output(wait = False)\n",
    "\n",
    "spark.version\n",
    "\n",
    "import time\n",
    "start_time = time.time()\n"
   ]
  },
  {
   "cell_type": "code",
   "execution_count": 3,
   "id": "b155b5f7-edaa-45dd-97a0-f6510ccbd513",
   "metadata": {},
   "outputs": [],
   "source": [
    "data_final = data_final.withColumn(\"Organization\",\n",
    "                        F.when(data_final.verified_user == 'false', 'Other') \\\n",
    "                        .when((data_final.user_description.contains('university')) \n",
    "                              | (data_final.user_name.contains('university')) \n",
    "                              | (data_final.user_name.contains('University'))\n",
    "                              | (data_final.user_name.contains('School of')), 'University')\n",
    "                        .when((data_final.user_description.contains('school')) \n",
    "                              | (data_final.user_name.contains('school')) \n",
    "                              | (data_final.user_name.contains('School')) , 'School')  \n",
    "                        .when((data_final.user_description.contains('nonprofit organization')), 'nonprofit organization')                             \n",
    "                        .when((data_final.user_description.contains('gov')) \n",
    "                              | (data_final.user_name.contains('gov')) \n",
    "                              | (data_final.user_name.contains('Department of')) \\\n",
    "                              | (data_final.user_description.contains('president')) \n",
    "                              | (data_final.user_name.contains('president')) \\\n",
    "                              | (data_final.user_description.contains('senat')) \n",
    "                              | (data_final.user_name.contains('senat')) \\\n",
    "                              | (data_final.user_description.contains('congress')) \n",
    "                              | (data_final.user_name.contains('congress')) \\\n",
    "                              | (data_final.user_description.contains('prime minister')) \n",
    "                              | (data_final.user_name.contains('prime minister')) \\\n",
    "                              | (data_final.user_description.contains('parliament')) \n",
    "                              | (data_final.user_name.contains('parliament')) \\\n",
    "                              | (data_final.user_description.contains('vp')) \n",
    "                              | (data_final.user_name.contains('vp')) \\\n",
    "                              | (data_final.user_description.contains('white house')) \n",
    "                              | (data_final.user_name.contains('white house')) \\\n",
    "                              | (data_final.user_description.contains('mayor')) \n",
    "                              | (data_final.user_name.contains('mayor')) \\\n",
    "                              | (data_final.user_description.contains('democr')) \n",
    "                              | (data_final.user_name.contains('democr')) \\\n",
    "                              | (data_final.user_description.contains('republic')) \n",
    "                              | (data_final.user_name.contains('republic')), 'Government') \\\n",
    "                        .when((data_final.user_description.contains('news')) \n",
    "                              | (data_final.user_name.contains('news')) \\\n",
    "                              | (data_final.user_description.contains('News'))\n",
    "                              | (data_final.user_name.contains('News')) \\\n",
    "                              | (data_final.user_description.contains('daily')) \n",
    "                              | (data_final.user_name.contains('daily')) \\\n",
    "                              | (data_final.user_description.contains('times')) \n",
    "                              | (data_final.user_name.contains('times')) \\\n",
    "                              | (data_final.user_description.contains('journal')) \n",
    "                              | (data_final.user_name.contains('journal')), 'News') \\\n",
    "                        .when(((data_final.user_description.contains('actor')) & (data_final.followers_count > 10000)) \\\n",
    "                              | ((data_final.user_description.contains('singer')) & (data_final.followers_count > 10000)) \\\n",
    "                              | ((data_final.user_description.contains('writer')) & (data_final.followers_count > 10000)) \\\n",
    "                              | ((data_final.user_description.contains('play')) & (data_final.followers_count > 10000)) \\\n",
    "                              | ((data_final.user_description.contains('musician')) & (data_final.followers_count > 10000)) \\\n",
    "                              | ((data_final.user_description.contains('actress')) & (data_final.followers_count > 10000)) \\\n",
    "                              | ((data_final.user_description.contains('golfer')) & (data_final.followers_count > 10000)) \\\n",
    "                              | ((data_final.user_description.contains('author')) & (data_final.followers_count > 10000)), 'Celebrity') \\\n",
    "                        .when(data_final.followers_count >= 5000, 'Influencer'))"
   ]
  },
  {
   "cell_type": "code",
   "execution_count": 4,
   "id": "16b31c82-1cd9-4033-a4d1-b4c665d74d01",
   "metadata": {},
   "outputs": [],
   "source": [
    "data_final = data_final.na.fill(value='Other',subset=[\"Organization\"])"
   ]
  },
  {
   "cell_type": "code",
   "execution_count": 5,
   "id": "e9674581-d9ba-46c6-89a8-11893f3b4dea",
   "metadata": {},
   "outputs": [
    {
     "name": "stderr",
     "output_type": "stream",
     "text": [
      "                                                                                \r"
     ]
    },
    {
     "data": {
      "text/plain": [
       "26921707"
      ]
     },
     "execution_count": 5,
     "metadata": {},
     "output_type": "execute_result"
    }
   ],
   "source": [
    "data_final.count()"
   ]
  },
  {
   "cell_type": "code",
   "execution_count": 6,
   "id": "1948c987-6157-443b-b1ab-1302ab8e871f",
   "metadata": {},
   "outputs": [
    {
     "name": "stderr",
     "output_type": "stream",
     "text": [
      "                                                                                \r"
     ]
    },
    {
     "data": {
      "text/html": [
       "<div>\n",
       "<style scoped>\n",
       "    .dataframe tbody tr th:only-of-type {\n",
       "        vertical-align: middle;\n",
       "    }\n",
       "\n",
       "    .dataframe tbody tr th {\n",
       "        vertical-align: top;\n",
       "    }\n",
       "\n",
       "    .dataframe thead th {\n",
       "        text-align: right;\n",
       "    }\n",
       "</style>\n",
       "<table border=\"1\" class=\"dataframe\">\n",
       "  <thead>\n",
       "    <tr style=\"text-align: right;\">\n",
       "      <th></th>\n",
       "      <th>created_at</th>\n",
       "      <th>user</th>\n",
       "      <th>user_id</th>\n",
       "      <th>user_name</th>\n",
       "      <th>user_description</th>\n",
       "      <th>followers_count</th>\n",
       "      <th>quote_count</th>\n",
       "      <th>retweeted_status</th>\n",
       "      <th>retweet_count</th>\n",
       "      <th>favorite_count</th>\n",
       "      <th>text</th>\n",
       "      <th>verified_user</th>\n",
       "      <th>user_location</th>\n",
       "      <th>Organization</th>\n",
       "    </tr>\n",
       "  </thead>\n",
       "  <tbody>\n",
       "    <tr>\n",
       "      <th>0</th>\n",
       "      <td>Wed Aug 24 17:29:41 +0000 2022</td>\n",
       "      <td>(False, Mon Oct 04 18:02:23 +0000 2021, True, ...</td>\n",
       "      <td>1445086760938127372</td>\n",
       "      <td>Kevster</td>\n",
       "      <td>Pro Medical Choice, Forest bather, Outdoors en...</td>\n",
       "      <td>147</td>\n",
       "      <td>11</td>\n",
       "      <td>(None, Wed Aug 24 13:42:50 +0000 2022, None, (...</td>\n",
       "      <td>88</td>\n",
       "      <td>290</td>\n",
       "      <td>RT @AndrewLawton: \"Western knows its vaccine m...</td>\n",
       "      <td>False</td>\n",
       "      <td>None</td>\n",
       "      <td>Other</td>\n",
       "    </tr>\n",
       "    <tr>\n",
       "      <th>1</th>\n",
       "      <td>Wed Aug 24 17:29:42 +0000 2022</td>\n",
       "      <td>(False, Sun Apr 26 02:15:57 +0000 2009, False,...</td>\n",
       "      <td>35375399</td>\n",
       "      <td>Daniel Lewis</td>\n",
       "      <td>Visit Our New Ruined Downtown, #maga, #America...</td>\n",
       "      <td>1161</td>\n",
       "      <td>5</td>\n",
       "      <td>(None, Wed Aug 24 17:15:05 +0000 2022, None, (...</td>\n",
       "      <td>94</td>\n",
       "      <td>334</td>\n",
       "      <td>RT @StephenM: Here’s what we should do re: col...</td>\n",
       "      <td>False</td>\n",
       "      <td>Sarasota Florida</td>\n",
       "      <td>Other</td>\n",
       "    </tr>\n",
       "    <tr>\n",
       "      <th>2</th>\n",
       "      <td>Wed Aug 24 17:29:42 +0000 2022</td>\n",
       "      <td>(False, Wed Oct 13 02:30:05 +0000 2021, True, ...</td>\n",
       "      <td>1448113670802837514</td>\n",
       "      <td>William Turner, PhD, JD</td>\n",
       "      <td>Check out the recent history of the grossly de...</td>\n",
       "      <td>521</td>\n",
       "      <td>31</td>\n",
       "      <td>(None, Tue Aug 23 20:14:22 +0000 2022, None, (...</td>\n",
       "      <td>1198</td>\n",
       "      <td>9651</td>\n",
       "      <td>RT @fuckyouiquit: If they cancelled all studen...</td>\n",
       "      <td>False</td>\n",
       "      <td>Ph.D. US History, JD</td>\n",
       "      <td>Other</td>\n",
       "    </tr>\n",
       "  </tbody>\n",
       "</table>\n",
       "</div>"
      ],
      "text/plain": [
       "                       created_at  \\\n",
       "0  Wed Aug 24 17:29:41 +0000 2022   \n",
       "1  Wed Aug 24 17:29:42 +0000 2022   \n",
       "2  Wed Aug 24 17:29:42 +0000 2022   \n",
       "\n",
       "                                                user              user_id  \\\n",
       "0  (False, Mon Oct 04 18:02:23 +0000 2021, True, ...  1445086760938127372   \n",
       "1  (False, Sun Apr 26 02:15:57 +0000 2009, False,...             35375399   \n",
       "2  (False, Wed Oct 13 02:30:05 +0000 2021, True, ...  1448113670802837514   \n",
       "\n",
       "                 user_name                                   user_description  \\\n",
       "0                  Kevster  Pro Medical Choice, Forest bather, Outdoors en...   \n",
       "1             Daniel Lewis  Visit Our New Ruined Downtown, #maga, #America...   \n",
       "2  William Turner, PhD, JD  Check out the recent history of the grossly de...   \n",
       "\n",
       "   followers_count  quote_count  \\\n",
       "0              147           11   \n",
       "1             1161            5   \n",
       "2              521           31   \n",
       "\n",
       "                                    retweeted_status  retweet_count  \\\n",
       "0  (None, Wed Aug 24 13:42:50 +0000 2022, None, (...             88   \n",
       "1  (None, Wed Aug 24 17:15:05 +0000 2022, None, (...             94   \n",
       "2  (None, Tue Aug 23 20:14:22 +0000 2022, None, (...           1198   \n",
       "\n",
       "   favorite_count                                               text  \\\n",
       "0             290  RT @AndrewLawton: \"Western knows its vaccine m...   \n",
       "1             334  RT @StephenM: Here’s what we should do re: col...   \n",
       "2            9651  RT @fuckyouiquit: If they cancelled all studen...   \n",
       "\n",
       "   verified_user          user_location Organization  \n",
       "0          False                   None        Other  \n",
       "1          False       Sarasota Florida        Other  \n",
       "2          False  Ph.D. US History, JD         Other  "
      ]
     },
     "execution_count": 6,
     "metadata": {},
     "output_type": "execute_result"
    }
   ],
   "source": [
    "data_final.limit(3).toPandas()"
   ]
  },
  {
   "cell_type": "code",
   "execution_count": 5,
   "id": "70336e01-9251-493c-8f44-fe632c861632",
   "metadata": {},
   "outputs": [],
   "source": [
    "keywords = ['children', 'kindergarten', 'testing', 'grade', 'student', 'grades', 'education', 'teachers', 'schools', 'college', 'students','math', 'science', 'primary_school', 'elementary_school', 'high_school', 'pre_school', \n",
    "                  'middle_school', 'k12', 'k-12', 'book', 'curriculum', 'learning', 'colleges', 'tuition']"
   ]
  },
  {
   "cell_type": "code",
   "execution_count": 6,
   "id": "35af2f3f-0659-4885-8051-550b039e7fbe",
   "metadata": {},
   "outputs": [],
   "source": [
    "#Here, for useful processing, I am only selecting the tweets that have education related words more than once in thier text. \n",
    "\n",
    "@F.udf\n",
    "def count_filtering(text):\n",
    "    global keywords\n",
    "    words = text.split()\n",
    "    total_count = 0\n",
    "    for i in keywords:\n",
    "        occurance_count = words.count(i)\n",
    "        total_count += occurance_count\n",
    "\n",
    "    if(total_count >= 2):\n",
    "        return 1\n",
    "    else:\n",
    "        return 0\n",
    "    \n",
    "\n",
    "data_final = data_final.withColumn(\"count_filtered\", count_filtering(\"text\"))"
   ]
  },
  {
   "cell_type": "code",
   "execution_count": 7,
   "id": "02943f26-5790-44bc-a265-273a3f6f8fee",
   "metadata": {},
   "outputs": [
    {
     "name": "stderr",
     "output_type": "stream",
     "text": [
      "                                                                                \r"
     ]
    },
    {
     "data": {
      "text/plain": [
       "1884157"
      ]
     },
     "execution_count": 7,
     "metadata": {},
     "output_type": "execute_result"
    }
   ],
   "source": [
    "data_final2 = data_final.filter(\"count_filtered == 1\")\n",
    "data_final2.count()"
   ]
  },
  {
   "cell_type": "code",
   "execution_count": 8,
   "id": "90e094a2-c4f6-47a5-b891-bc5db1e5f80c",
   "metadata": {
    "scrolled": true,
    "tags": []
   },
   "outputs": [
    {
     "name": "stderr",
     "output_type": "stream",
     "text": [
      "                                                                                \r"
     ]
    },
    {
     "data": {
      "text/plain": [
       "463857"
      ]
     },
     "execution_count": 8,
     "metadata": {},
     "output_type": "execute_result"
    }
   ],
   "source": [
    "#Selecting only the originial messages and not retweets\n",
    "data_final3 = data_final2.filter(\"retweeted_status is null\")\n",
    "\n",
    "data_final3.count()"
   ]
  },
  {
   "cell_type": "markdown",
   "id": "a3242c41-c25d-4e1b-aa00-4be8c1febea3",
   "metadata": {},
   "source": [
    "**Jaccard Similarity**"
   ]
  },
  {
   "cell_type": "code",
   "execution_count": 17,
   "id": "0fc13af3-a66d-4355-bece-b2de803927c2",
   "metadata": {},
   "outputs": [],
   "source": [
    "def get_tokens(df):\n",
    "    return df\\\n",
    "        .map( lambda document: re.sub(r'[^a-zA-Z0-9 ]', '', document))\\\n",
    "        .map( lambda document: document.strip().lower())\\\n",
    "        .map( lambda document: re.split(\" \", document))\\\n",
    "        .map( lambda word: [x for x in word if len(x) >= 2] )\\\n",
    "        .map( lambda word: [x for x in word if x not in StopWords])\\\n",
    "        .zipWithIndex()\n",
    "\n",
    "def to_DF(rdd_, col):    \n",
    "    row = Row(col)\n",
    "    return rdd_.map(row).zipWithIndex().toDF([col, 'id'])\n",
    "\n",
    "def token_cleaning(tokens):\n",
    "    df_tokens = spark.createDataFrame(tokens, [\"list_of_words\",'id'])\n",
    "    df_tokens = df_tokens.where(col('list_of_words').getItem(0).isNotNull())\n",
    "    return df_tokens\n"
   ]
  },
  {
   "cell_type": "code",
   "execution_count": 18,
   "id": "9a7f2962-f971-4702-a63d-ad6aef972d8c",
   "metadata": {
    "scrolled": true,
    "tags": []
   },
   "outputs": [],
   "source": [
    "mh = MinHashLSH(inputCol = \"features\", outputCol = \"hashes\", numHashTables = 5)\n",
    "def get_df_hashed(df_vectorize):\n",
    "    model = mh.fit(df_vectorize)\n",
    "    df_hashed = mh.fit(df_vectorize).transform(df_vectorize)\n",
    "    return model, df_hashed"
   ]
  },
  {
   "cell_type": "code",
   "execution_count": 19,
   "id": "1d571305-a26d-4ad8-94f8-5c3b8e7b4a36",
   "metadata": {},
   "outputs": [],
   "source": [
    "def getJaccardBarChart(df, jaccard_distance,model):\n",
    "\n",
    "    df_dups_text = model.approxSimilarityJoin(\n",
    "                        df, df, jaccard_distance\n",
    "                    ).filter(\"datasetA.id < datasetB.id\").select(\n",
    "                        col(\"distCol\"),\n",
    "                        col(\"datasetA.id\").alias(\"id_A\"),\n",
    "                        col(\"datasetB.id\").alias(\"id_B\"),\n",
    "                        col(\"datasetA.text\").alias('text_A'),\n",
    "                        col(\"datasetB.text\").alias('text_B')\n",
    "                    )\n",
    "\n",
    "    df_dups_text.cache()\n",
    "    #df_dups_text.limit(5).toPandas()\n",
    "    \n",
    "    records = df.count()\n",
    "    dups = df_dups_text.select('id_A').distinct().count()\n",
    "    uniques = records - dups\n",
    "    \n",
    "    return df_dups_text, records, dups"
   ]
  },
  {
   "cell_type": "code",
   "execution_count": 12,
   "id": "a8e6fa94-281b-4c5b-ae39-5eee902bcfb3",
   "metadata": {},
   "outputs": [],
   "source": [
    "df_sim = data_final3.select(['text', 'Organization'])"
   ]
  },
  {
   "cell_type": "code",
   "execution_count": 13,
   "id": "11566c57-ff6d-42b2-8013-a7f982026ef3",
   "metadata": {},
   "outputs": [
    {
     "name": "stderr",
     "output_type": "stream",
     "text": [
      "                                                                                \r"
     ]
    }
   ],
   "source": [
    "df_sim.write.format(\"parquet\").mode('overwrite').save('gs://msca-bdp-students-bucket/shared_data/suyashlakhani/tweets6')"
   ]
  },
  {
   "cell_type": "code",
   "execution_count": 13,
   "id": "52de40ba-bb97-40c4-aed3-47e3fc618731",
   "metadata": {},
   "outputs": [
    {
     "name": "stderr",
     "output_type": "stream",
     "text": [
      "                                                                                \r"
     ]
    },
    {
     "data": {
      "text/html": [
       "<div>\n",
       "<style scoped>\n",
       "    .dataframe tbody tr th:only-of-type {\n",
       "        vertical-align: middle;\n",
       "    }\n",
       "\n",
       "    .dataframe tbody tr th {\n",
       "        vertical-align: top;\n",
       "    }\n",
       "\n",
       "    .dataframe thead th {\n",
       "        text-align: right;\n",
       "    }\n",
       "</style>\n",
       "<table border=\"1\" class=\"dataframe\">\n",
       "  <thead>\n",
       "    <tr style=\"text-align: right;\">\n",
       "      <th></th>\n",
       "      <th>Organization</th>\n",
       "      <th>count</th>\n",
       "    </tr>\n",
       "  </thead>\n",
       "  <tbody>\n",
       "    <tr>\n",
       "      <th>0</th>\n",
       "      <td>Other</td>\n",
       "      <td>441916</td>\n",
       "    </tr>\n",
       "    <tr>\n",
       "      <th>1</th>\n",
       "      <td>News</td>\n",
       "      <td>11578</td>\n",
       "    </tr>\n",
       "    <tr>\n",
       "      <th>2</th>\n",
       "      <td>Influencer</td>\n",
       "      <td>7944</td>\n",
       "    </tr>\n",
       "    <tr>\n",
       "      <th>3</th>\n",
       "      <td>School</td>\n",
       "      <td>985</td>\n",
       "    </tr>\n",
       "    <tr>\n",
       "      <th>4</th>\n",
       "      <td>Government</td>\n",
       "      <td>796</td>\n",
       "    </tr>\n",
       "    <tr>\n",
       "      <th>5</th>\n",
       "      <td>University</td>\n",
       "      <td>390</td>\n",
       "    </tr>\n",
       "    <tr>\n",
       "      <th>6</th>\n",
       "      <td>Celebrity</td>\n",
       "      <td>246</td>\n",
       "    </tr>\n",
       "    <tr>\n",
       "      <th>7</th>\n",
       "      <td>nonprofit organization</td>\n",
       "      <td>2</td>\n",
       "    </tr>\n",
       "  </tbody>\n",
       "</table>\n",
       "</div>"
      ],
      "text/plain": [
       "             Organization   count\n",
       "0                   Other  441916\n",
       "1                    News   11578\n",
       "2              Influencer    7944\n",
       "3                  School     985\n",
       "4              Government     796\n",
       "5              University     390\n",
       "6               Celebrity     246\n",
       "7  nonprofit organization       2"
      ]
     },
     "execution_count": 13,
     "metadata": {},
     "output_type": "execute_result"
    }
   ],
   "source": [
    "inf_profile = data_final3.groupby(\"Organization\").count().orderBy('count',ascending=False).toPandas()\n",
    "\n",
    "inf_profile"
   ]
  },
  {
   "cell_type": "code",
   "execution_count": 17,
   "id": "5191e7ce-6ba3-442f-9956-ae8e13fbd276",
   "metadata": {},
   "outputs": [],
   "source": [
    "org_list  = inf_profile[\"Organization\"].tolist()"
   ]
  },
  {
   "cell_type": "code",
   "execution_count": 18,
   "id": "c075fb36-4b75-4986-a813-5d54266cec52",
   "metadata": {},
   "outputs": [
    {
     "data": {
      "text/plain": [
       "['Other',\n",
       " 'News',\n",
       " 'Influencer',\n",
       " 'School',\n",
       " 'Government',\n",
       " 'Celebrity',\n",
       " 'University',\n",
       " 'nonprofit organization']"
      ]
     },
     "execution_count": 18,
     "metadata": {},
     "output_type": "execute_result"
    }
   ],
   "source": [
    "org_list"
   ]
  },
  {
   "cell_type": "code",
   "execution_count": 14,
   "id": "fdcb27d1-9ca8-49d6-9bf2-fed6fa2fc1a1",
   "metadata": {},
   "outputs": [],
   "source": [
    "df_sample_final = df_sim.sample(0.05,seed=42)"
   ]
  },
  {
   "cell_type": "code",
   "execution_count": 15,
   "id": "d1f3c6bd-1eea-4649-8616-c8937e22095a",
   "metadata": {},
   "outputs": [],
   "source": [
    "tweets = df_sample_final.rdd.map(lambda x : x['text'])"
   ]
  },
  {
   "cell_type": "code",
   "execution_count": 16,
   "id": "0126fef7-e8b0-46ef-931d-70598ee066d1",
   "metadata": {
    "scrolled": true,
    "tags": []
   },
   "outputs": [
    {
     "name": "stderr",
     "output_type": "stream",
     "text": [
      "                                                                                \r"
     ]
    }
   ],
   "source": [
    "StopWords = stopwords.words(\"english\")\n",
    "tweet_tokens = get_tokens(tweets)"
   ]
  },
  {
   "cell_type": "code",
   "execution_count": 17,
   "id": "abc91db5-d6a5-4f77-b689-c99c78f9abfa",
   "metadata": {},
   "outputs": [
    {
     "name": "stderr",
     "output_type": "stream",
     "text": [
      "                                                                                \r"
     ]
    }
   ],
   "source": [
    "df_tweets = to_DF(tweets, 'text')"
   ]
  },
  {
   "cell_type": "code",
   "execution_count": 18,
   "id": "1b7b6955-4745-4814-a386-b6f07e1e0d99",
   "metadata": {},
   "outputs": [
    {
     "name": "stderr",
     "output_type": "stream",
     "text": [
      "                                                                                \r"
     ]
    },
    {
     "data": {
      "text/plain": [
       "23296"
      ]
     },
     "execution_count": 18,
     "metadata": {},
     "output_type": "execute_result"
    }
   ],
   "source": [
    "df_sample_final.count()"
   ]
  },
  {
   "cell_type": "code",
   "execution_count": 19,
   "id": "2793df00-908f-4d22-a79a-1eb453b13a61",
   "metadata": {},
   "outputs": [
    {
     "name": "stderr",
     "output_type": "stream",
     "text": [
      "                                                                                \r"
     ]
    }
   ],
   "source": [
    "#StopWords = stopwords.words(\"english\")\n",
    "df_tweet_tokens = token_cleaning(tweet_tokens)"
   ]
  },
  {
   "cell_type": "code",
   "execution_count": 20,
   "id": "83bd1ca0-00cb-4186-a71d-972b20febc22",
   "metadata": {
    "scrolled": true,
    "tags": []
   },
   "outputs": [
    {
     "name": "stderr",
     "output_type": "stream",
     "text": [
      "                                                                                \r"
     ]
    }
   ],
   "source": [
    "vectorize = CountVectorizer(inputCol=\"list_of_words\", outputCol=\"features\", minDF=1.0)\n",
    "df_tweet_tokens_vectorized = vectorize.fit(df_tweet_tokens).transform(df_tweet_tokens)"
   ]
  },
  {
   "cell_type": "code",
   "execution_count": 21,
   "id": "0f1ec842-dcdc-4bef-a03a-ebd8fc1ebe94",
   "metadata": {},
   "outputs": [],
   "source": [
    "model, df_hashed= get_df_hashed(df_tweet_tokens_vectorized)\n",
    "\n",
    "df_hashed_text_joined = df_tweets.join(df_hashed, \"id\", how = 'left')\n",
    "\n",
    "df_hashed_text_joined = df_hashed_text_joined.\\\n",
    "                                where(size(df_hashed_text_joined.list_of_words) >= 5)"
   ]
  },
  {
   "cell_type": "code",
   "execution_count": null,
   "id": "796fcdae-7b20-4b22-b92c-f36d508601a3",
   "metadata": {
    "scrolled": true,
    "tags": []
   },
   "outputs": [
    {
     "name": "stderr",
     "output_type": "stream",
     "text": [
      "22/12/07 01:19:26 WARN org.apache.spark.deploy.yarn.YarnAllocator: Container from a bad node: container_1670090078315_0023_01_000059 on host: hub-msca-bdp-dphub-students-suyashlakhani-sw-jkj8.c.msca-bdp-students.internal. Exit status: 143. Diagnostics: [2022-12-07 01:19:26.068]Container killed on request. Exit code is 143\n",
      "[2022-12-07 01:19:26.068]Container exited with a non-zero exit code 143. \n",
      "[2022-12-07 01:19:26.092]Killed by external signal\n",
      ".\n",
      "22/12/07 01:19:26 WARN org.apache.spark.deploy.yarn.YarnAllocator: Container from a bad node: container_1670090078315_0023_01_000063 on host: hub-msca-bdp-dphub-students-suyashlakhani-sw-jkj8.c.msca-bdp-students.internal. Exit status: 143. Diagnostics: [2022-12-07 01:19:26.092]Container killed on request. Exit code is 143\n",
      "[2022-12-07 01:19:26.092]Container exited with a non-zero exit code 143. \n",
      "[2022-12-07 01:19:26.093]Killed by external signal\n",
      ".\n",
      "22/12/07 01:19:26 WARN org.apache.spark.scheduler.cluster.YarnSchedulerBackend$YarnSchedulerEndpoint: Requesting driver to remove executor 58 for reason Container from a bad node: container_1670090078315_0023_01_000059 on host: hub-msca-bdp-dphub-students-suyashlakhani-sw-jkj8.c.msca-bdp-students.internal. Exit status: 143. Diagnostics: [2022-12-07 01:19:26.068]Container killed on request. Exit code is 143\n",
      "[2022-12-07 01:19:26.068]Container exited with a non-zero exit code 143. \n",
      "[2022-12-07 01:19:26.092]Killed by external signal\n",
      ".\n",
      "22/12/07 01:19:26 WARN org.apache.spark.scheduler.cluster.YarnSchedulerBackend$YarnSchedulerEndpoint: Requesting driver to remove executor 62 for reason Container from a bad node: container_1670090078315_0023_01_000063 on host: hub-msca-bdp-dphub-students-suyashlakhani-sw-jkj8.c.msca-bdp-students.internal. Exit status: 143. Diagnostics: [2022-12-07 01:19:26.092]Container killed on request. Exit code is 143\n",
      "[2022-12-07 01:19:26.092]Container exited with a non-zero exit code 143. \n",
      "[2022-12-07 01:19:26.093]Killed by external signal\n",
      ".\n",
      "22/12/07 01:19:26 ERROR org.apache.spark.scheduler.cluster.YarnScheduler: Lost executor 58 on hub-msca-bdp-dphub-students-suyashlakhani-sw-jkj8.c.msca-bdp-students.internal: Container from a bad node: container_1670090078315_0023_01_000059 on host: hub-msca-bdp-dphub-students-suyashlakhani-sw-jkj8.c.msca-bdp-students.internal. Exit status: 143. Diagnostics: [2022-12-07 01:19:26.068]Container killed on request. Exit code is 143\n",
      "[2022-12-07 01:19:26.068]Container exited with a non-zero exit code 143. \n",
      "[2022-12-07 01:19:26.092]Killed by external signal\n",
      ".\n",
      "22/12/07 01:19:26 WARN org.apache.spark.deploy.yarn.YarnAllocator: Cannot find executorId for container: container_1670090078315_0023_01_000066\n",
      "22/12/07 01:19:26 WARN org.apache.spark.scheduler.TaskSetManager: Lost task 10.0 in stage 26.0 (TID 2356) (hub-msca-bdp-dphub-students-suyashlakhani-sw-jkj8.c.msca-bdp-students.internal executor 58): ExecutorLostFailure (executor 58 exited caused by one of the running tasks) Reason: Container from a bad node: container_1670090078315_0023_01_000059 on host: hub-msca-bdp-dphub-students-suyashlakhani-sw-jkj8.c.msca-bdp-students.internal. Exit status: 143. Diagnostics: [2022-12-07 01:19:26.068]Container killed on request. Exit code is 143\n",
      "[2022-12-07 01:19:26.068]Container exited with a non-zero exit code 143. \n",
      "[2022-12-07 01:19:26.092]Killed by external signal\n",
      ".\n",
      "22/12/07 01:19:26 WARN org.apache.spark.scheduler.TaskSetManager: Lost task 11.0 in stage 26.0 (TID 2357) (hub-msca-bdp-dphub-students-suyashlakhani-sw-jkj8.c.msca-bdp-students.internal executor 58): ExecutorLostFailure (executor 58 exited caused by one of the running tasks) Reason: Container from a bad node: container_1670090078315_0023_01_000059 on host: hub-msca-bdp-dphub-students-suyashlakhani-sw-jkj8.c.msca-bdp-students.internal. Exit status: 143. Diagnostics: [2022-12-07 01:19:26.068]Container killed on request. Exit code is 143\n",
      "[2022-12-07 01:19:26.068]Container exited with a non-zero exit code 143. \n",
      "[2022-12-07 01:19:26.092]Killed by external signal\n",
      ".\n",
      "22/12/07 01:19:26 ERROR org.apache.spark.scheduler.cluster.YarnScheduler: Lost executor 62 on hub-msca-bdp-dphub-students-suyashlakhani-sw-jkj8.c.msca-bdp-students.internal: Container from a bad node: container_1670090078315_0023_01_000063 on host: hub-msca-bdp-dphub-students-suyashlakhani-sw-jkj8.c.msca-bdp-students.internal. Exit status: 143. Diagnostics: [2022-12-07 01:19:26.092]Container killed on request. Exit code is 143\n",
      "[2022-12-07 01:19:26.092]Container exited with a non-zero exit code 143. \n",
      "[2022-12-07 01:19:26.093]Killed by external signal\n",
      ".\n",
      "22/12/07 01:19:26 WARN org.apache.spark.scheduler.TaskSetManager: Lost task 15.0 in stage 27.0 (TID 2367) (hub-msca-bdp-dphub-students-suyashlakhani-sw-jkj8.c.msca-bdp-students.internal executor 62): ExecutorLostFailure (executor 62 exited caused by one of the running tasks) Reason: Container from a bad node: container_1670090078315_0023_01_000063 on host: hub-msca-bdp-dphub-students-suyashlakhani-sw-jkj8.c.msca-bdp-students.internal. Exit status: 143. Diagnostics: [2022-12-07 01:19:26.092]Container killed on request. Exit code is 143\n",
      "[2022-12-07 01:19:26.092]Container exited with a non-zero exit code 143. \n",
      "[2022-12-07 01:19:26.093]Killed by external signal\n",
      ".\n",
      "22/12/07 01:19:26 WARN org.apache.spark.scheduler.TaskSetManager: Lost task 14.0 in stage 27.0 (TID 2366) (hub-msca-bdp-dphub-students-suyashlakhani-sw-jkj8.c.msca-bdp-students.internal executor 62): ExecutorLostFailure (executor 62 exited caused by one of the running tasks) Reason: Container from a bad node: container_1670090078315_0023_01_000063 on host: hub-msca-bdp-dphub-students-suyashlakhani-sw-jkj8.c.msca-bdp-students.internal. Exit status: 143. Diagnostics: [2022-12-07 01:19:26.092]Container killed on request. Exit code is 143\n",
      "[2022-12-07 01:19:26.092]Container exited with a non-zero exit code 143. \n",
      "[2022-12-07 01:19:26.093]Killed by external signal\n",
      ".\n",
      "22/12/07 01:25:33 WARN org.apache.spark.scheduler.DAGScheduler: Broadcasting large task binary with size 1043.8 KiB\n",
      "22/12/07 01:40:25 WARN org.apache.spark.scheduler.DAGScheduler: Broadcasting large task binary with size 1043.8 KiB\n",
      "22/12/07 02:09:50 WARN org.apache.spark.scheduler.DAGScheduler: Broadcasting large task binary with size 1043.8 KiB\n",
      "22/12/07 02:24:37 WARN org.apache.spark.scheduler.DAGScheduler: Broadcasting large task binary with size 1043.8 KiB\n",
      "                                                                                \r"
     ]
    },
    {
     "ename": "ValueError",
     "evalue": "The truth value of a Series is ambiguous. Use a.empty, a.bool(), a.item(), a.any() or a.all().",
     "output_type": "error",
     "traceback": [
      "\u001b[0;31m---------------------------------------------------------------------------\u001b[0m",
      "\u001b[0;31mValueError\u001b[0m                                Traceback (most recent call last)",
      "Cell \u001b[0;32mIn [22], line 20\u001b[0m\n\u001b[1;32m     18\u001b[0m df_duplicates \u001b[38;5;241m=\u001b[39m pd\u001b[38;5;241m.\u001b[39mDataFrame(text_dups_list, columns \u001b[38;5;241m=\u001b[39m [\u001b[38;5;124m'\u001b[39m\u001b[38;5;124mcounts\u001b[39m\u001b[38;5;124m'\u001b[39m, \u001b[38;5;124m'\u001b[39m\u001b[38;5;124mdups\u001b[39m\u001b[38;5;124m'\u001b[39m, \u001b[38;5;124m'\u001b[39m\u001b[38;5;124munique\u001b[39m\u001b[38;5;124m'\u001b[39m, \u001b[38;5;124m'\u001b[39m\u001b[38;5;124mthreshold\u001b[39m\u001b[38;5;124m'\u001b[39m])\n\u001b[1;32m     19\u001b[0m plt\u001b[38;5;241m.\u001b[39mtight_layout()\n\u001b[0;32m---> 20\u001b[0m \u001b[43msns\u001b[49m\u001b[38;5;241;43m.\u001b[39;49m\u001b[43mbarplot\u001b[49m\u001b[43m(\u001b[49m\u001b[43my\u001b[49m\u001b[38;5;241;43m=\u001b[39;49m\u001b[43m[\u001b[49m\u001b[38;5;124;43m'\u001b[39;49m\u001b[38;5;124;43munique\u001b[39;49m\u001b[38;5;124;43m'\u001b[39;49m\u001b[43m,\u001b[49m\u001b[38;5;124;43m'\u001b[39;49m\u001b[38;5;124;43mdups\u001b[39;49m\u001b[38;5;124;43m'\u001b[39;49m\u001b[43m]\u001b[49m\u001b[43m,\u001b[49m\u001b[43mx\u001b[49m\u001b[38;5;241;43m=\u001b[39;49m\u001b[38;5;124;43m\"\u001b[39;49m\u001b[38;5;124;43mthreshold\u001b[39;49m\u001b[38;5;124;43m\"\u001b[39;49m\u001b[43m,\u001b[49m\u001b[43mdata\u001b[49m\u001b[38;5;241;43m=\u001b[39;49m\u001b[43mdf_duplicates\u001b[49m\u001b[43m,\u001b[49m\u001b[43mpalette\u001b[49m\u001b[38;5;241;43m=\u001b[39;49m\u001b[38;5;124;43m\"\u001b[39;49m\u001b[38;5;124;43mSpectral\u001b[39;49m\u001b[38;5;124;43m\"\u001b[39;49m\u001b[43m,\u001b[49m\u001b[43mtitle\u001b[49m\u001b[38;5;241;43m=\u001b[39;49m\u001b[38;5;124;43m\"\u001b[39;49m\u001b[38;5;124;43mTweets Duplication Analysis\u001b[39;49m\u001b[38;5;124;43m\"\u001b[39;49m\u001b[43m)\u001b[49m\n\u001b[1;32m     21\u001b[0m \u001b[38;5;66;03m#df_duplicates.plot(x = 'threshold', y = ['unique','dups'], kind = 'bar', title = \"Tweets Duplication Analysis\")\u001b[39;00m\n\u001b[1;32m     22\u001b[0m \u001b[38;5;66;03m#plt.show()\u001b[39;00m\n",
      "File \u001b[0;32m/opt/conda/miniconda3/lib/python3.8/site-packages/seaborn/_decorators.py:46\u001b[0m, in \u001b[0;36m_deprecate_positional_args.<locals>.inner_f\u001b[0;34m(*args, **kwargs)\u001b[0m\n\u001b[1;32m     36\u001b[0m     warnings\u001b[38;5;241m.\u001b[39mwarn(\n\u001b[1;32m     37\u001b[0m         \u001b[38;5;124m\"\u001b[39m\u001b[38;5;124mPass the following variable\u001b[39m\u001b[38;5;132;01m{}\u001b[39;00m\u001b[38;5;124m as \u001b[39m\u001b[38;5;132;01m{}\u001b[39;00m\u001b[38;5;124mkeyword arg\u001b[39m\u001b[38;5;132;01m{}\u001b[39;00m\u001b[38;5;124m: \u001b[39m\u001b[38;5;132;01m{}\u001b[39;00m\u001b[38;5;124m. \u001b[39m\u001b[38;5;124m\"\u001b[39m\n\u001b[1;32m     38\u001b[0m         \u001b[38;5;124m\"\u001b[39m\u001b[38;5;124mFrom version 0.12, the only valid positional argument \u001b[39m\u001b[38;5;124m\"\u001b[39m\n\u001b[0;32m   (...)\u001b[0m\n\u001b[1;32m     43\u001b[0m         \u001b[38;5;167;01mFutureWarning\u001b[39;00m\n\u001b[1;32m     44\u001b[0m     )\n\u001b[1;32m     45\u001b[0m kwargs\u001b[38;5;241m.\u001b[39mupdate({k: arg \u001b[38;5;28;01mfor\u001b[39;00m k, arg \u001b[38;5;129;01min\u001b[39;00m \u001b[38;5;28mzip\u001b[39m(sig\u001b[38;5;241m.\u001b[39mparameters, args)})\n\u001b[0;32m---> 46\u001b[0m \u001b[38;5;28;01mreturn\u001b[39;00m \u001b[43mf\u001b[49m\u001b[43m(\u001b[49m\u001b[38;5;241;43m*\u001b[39;49m\u001b[38;5;241;43m*\u001b[39;49m\u001b[43mkwargs\u001b[49m\u001b[43m)\u001b[49m\n",
      "File \u001b[0;32m/opt/conda/miniconda3/lib/python3.8/site-packages/seaborn/categorical.py:3182\u001b[0m, in \u001b[0;36mbarplot\u001b[0;34m(x, y, hue, data, order, hue_order, estimator, ci, n_boot, units, seed, orient, color, palette, saturation, errcolor, errwidth, capsize, dodge, ax, **kwargs)\u001b[0m\n\u001b[1;32m   3169\u001b[0m \u001b[38;5;129m@_deprecate_positional_args\u001b[39m\n\u001b[1;32m   3170\u001b[0m \u001b[38;5;28;01mdef\u001b[39;00m \u001b[38;5;21mbarplot\u001b[39m(\n\u001b[1;32m   3171\u001b[0m     \u001b[38;5;241m*\u001b[39m,\n\u001b[0;32m   (...)\u001b[0m\n\u001b[1;32m   3179\u001b[0m     \u001b[38;5;241m*\u001b[39m\u001b[38;5;241m*\u001b[39mkwargs,\n\u001b[1;32m   3180\u001b[0m ):\n\u001b[0;32m-> 3182\u001b[0m     plotter \u001b[38;5;241m=\u001b[39m \u001b[43m_BarPlotter\u001b[49m\u001b[43m(\u001b[49m\u001b[43mx\u001b[49m\u001b[43m,\u001b[49m\u001b[43m \u001b[49m\u001b[43my\u001b[49m\u001b[43m,\u001b[49m\u001b[43m \u001b[49m\u001b[43mhue\u001b[49m\u001b[43m,\u001b[49m\u001b[43m \u001b[49m\u001b[43mdata\u001b[49m\u001b[43m,\u001b[49m\u001b[43m \u001b[49m\u001b[43morder\u001b[49m\u001b[43m,\u001b[49m\u001b[43m \u001b[49m\u001b[43mhue_order\u001b[49m\u001b[43m,\u001b[49m\n\u001b[1;32m   3183\u001b[0m \u001b[43m                          \u001b[49m\u001b[43mestimator\u001b[49m\u001b[43m,\u001b[49m\u001b[43m \u001b[49m\u001b[43mci\u001b[49m\u001b[43m,\u001b[49m\u001b[43m \u001b[49m\u001b[43mn_boot\u001b[49m\u001b[43m,\u001b[49m\u001b[43m \u001b[49m\u001b[43munits\u001b[49m\u001b[43m,\u001b[49m\u001b[43m \u001b[49m\u001b[43mseed\u001b[49m\u001b[43m,\u001b[49m\n\u001b[1;32m   3184\u001b[0m \u001b[43m                          \u001b[49m\u001b[43morient\u001b[49m\u001b[43m,\u001b[49m\u001b[43m \u001b[49m\u001b[43mcolor\u001b[49m\u001b[43m,\u001b[49m\u001b[43m \u001b[49m\u001b[43mpalette\u001b[49m\u001b[43m,\u001b[49m\u001b[43m \u001b[49m\u001b[43msaturation\u001b[49m\u001b[43m,\u001b[49m\n\u001b[1;32m   3185\u001b[0m \u001b[43m                          \u001b[49m\u001b[43merrcolor\u001b[49m\u001b[43m,\u001b[49m\u001b[43m \u001b[49m\u001b[43merrwidth\u001b[49m\u001b[43m,\u001b[49m\u001b[43m \u001b[49m\u001b[43mcapsize\u001b[49m\u001b[43m,\u001b[49m\u001b[43m \u001b[49m\u001b[43mdodge\u001b[49m\u001b[43m)\u001b[49m\n\u001b[1;32m   3187\u001b[0m     \u001b[38;5;28;01mif\u001b[39;00m ax \u001b[38;5;129;01mis\u001b[39;00m \u001b[38;5;28;01mNone\u001b[39;00m:\n\u001b[1;32m   3188\u001b[0m         ax \u001b[38;5;241m=\u001b[39m plt\u001b[38;5;241m.\u001b[39mgca()\n",
      "File \u001b[0;32m/opt/conda/miniconda3/lib/python3.8/site-packages/seaborn/categorical.py:1584\u001b[0m, in \u001b[0;36m_BarPlotter.__init__\u001b[0;34m(self, x, y, hue, data, order, hue_order, estimator, ci, n_boot, units, seed, orient, color, palette, saturation, errcolor, errwidth, capsize, dodge)\u001b[0m\n\u001b[1;32m   1579\u001b[0m \u001b[38;5;28;01mdef\u001b[39;00m \u001b[38;5;21m__init__\u001b[39m(\u001b[38;5;28mself\u001b[39m, x, y, hue, data, order, hue_order,\n\u001b[1;32m   1580\u001b[0m              estimator, ci, n_boot, units, seed,\n\u001b[1;32m   1581\u001b[0m              orient, color, palette, saturation, errcolor,\n\u001b[1;32m   1582\u001b[0m              errwidth, capsize, dodge):\n\u001b[1;32m   1583\u001b[0m     \u001b[38;5;124;03m\"\"\"Initialize the plotter.\"\"\"\u001b[39;00m\n\u001b[0;32m-> 1584\u001b[0m     \u001b[38;5;28;43mself\u001b[39;49m\u001b[38;5;241;43m.\u001b[39;49m\u001b[43mestablish_variables\u001b[49m\u001b[43m(\u001b[49m\u001b[43mx\u001b[49m\u001b[43m,\u001b[49m\u001b[43m \u001b[49m\u001b[43my\u001b[49m\u001b[43m,\u001b[49m\u001b[43m \u001b[49m\u001b[43mhue\u001b[49m\u001b[43m,\u001b[49m\u001b[43m \u001b[49m\u001b[43mdata\u001b[49m\u001b[43m,\u001b[49m\u001b[43m \u001b[49m\u001b[43morient\u001b[49m\u001b[43m,\u001b[49m\n\u001b[1;32m   1585\u001b[0m \u001b[43m                             \u001b[49m\u001b[43morder\u001b[49m\u001b[43m,\u001b[49m\u001b[43m \u001b[49m\u001b[43mhue_order\u001b[49m\u001b[43m,\u001b[49m\u001b[43m \u001b[49m\u001b[43munits\u001b[49m\u001b[43m)\u001b[49m\n\u001b[1;32m   1586\u001b[0m     \u001b[38;5;28mself\u001b[39m\u001b[38;5;241m.\u001b[39mestablish_colors(color, palette, saturation)\n\u001b[1;32m   1587\u001b[0m     \u001b[38;5;28mself\u001b[39m\u001b[38;5;241m.\u001b[39mestimate_statistic(estimator, ci, n_boot, seed)\n",
      "File \u001b[0;32m/opt/conda/miniconda3/lib/python3.8/site-packages/seaborn/categorical.py:156\u001b[0m, in \u001b[0;36m_CategoricalPlotter.establish_variables\u001b[0;34m(self, x, y, hue, data, orient, order, hue_order, units)\u001b[0m\n\u001b[1;32m    153\u001b[0m         \u001b[38;5;28;01mraise\u001b[39;00m \u001b[38;5;167;01mValueError\u001b[39;00m(err)\n\u001b[1;32m    155\u001b[0m \u001b[38;5;66;03m# Figure out the plotting orientation\u001b[39;00m\n\u001b[0;32m--> 156\u001b[0m orient \u001b[38;5;241m=\u001b[39m \u001b[43minfer_orient\u001b[49m\u001b[43m(\u001b[49m\n\u001b[1;32m    157\u001b[0m \u001b[43m    \u001b[49m\u001b[43mx\u001b[49m\u001b[43m,\u001b[49m\u001b[43m \u001b[49m\u001b[43my\u001b[49m\u001b[43m,\u001b[49m\u001b[43m \u001b[49m\u001b[43morient\u001b[49m\u001b[43m,\u001b[49m\u001b[43m \u001b[49m\u001b[43mrequire_numeric\u001b[49m\u001b[38;5;241;43m=\u001b[39;49m\u001b[38;5;28;43mself\u001b[39;49m\u001b[38;5;241;43m.\u001b[39;49m\u001b[43mrequire_numeric\u001b[49m\n\u001b[1;32m    158\u001b[0m \u001b[43m\u001b[49m\u001b[43m)\u001b[49m\n\u001b[1;32m    160\u001b[0m \u001b[38;5;66;03m# Option 2a:\u001b[39;00m\n\u001b[1;32m    161\u001b[0m \u001b[38;5;66;03m# We are plotting a single set of data\u001b[39;00m\n\u001b[1;32m    162\u001b[0m \u001b[38;5;66;03m# ------------------------------------\u001b[39;00m\n\u001b[1;32m    163\u001b[0m \u001b[38;5;28;01mif\u001b[39;00m x \u001b[38;5;129;01mis\u001b[39;00m \u001b[38;5;28;01mNone\u001b[39;00m \u001b[38;5;129;01mor\u001b[39;00m y \u001b[38;5;129;01mis\u001b[39;00m \u001b[38;5;28;01mNone\u001b[39;00m:\n\u001b[1;32m    164\u001b[0m \n\u001b[1;32m    165\u001b[0m     \u001b[38;5;66;03m# Determine where the data are\u001b[39;00m\n",
      "File \u001b[0;32m/opt/conda/miniconda3/lib/python3.8/site-packages/seaborn/_core.py:1312\u001b[0m, in \u001b[0;36minfer_orient\u001b[0;34m(x, y, orient, require_numeric)\u001b[0m\n\u001b[1;32m   1284\u001b[0m \u001b[38;5;124;03m\"\"\"Determine how the plot should be oriented based on the data.\u001b[39;00m\n\u001b[1;32m   1285\u001b[0m \n\u001b[1;32m   1286\u001b[0m \u001b[38;5;124;03mFor historical reasons, the convention is to call a plot \"horizontally\"\u001b[39;00m\n\u001b[0;32m   (...)\u001b[0m\n\u001b[1;32m   1308\u001b[0m \n\u001b[1;32m   1309\u001b[0m \u001b[38;5;124;03m\"\"\"\u001b[39;00m\n\u001b[1;32m   1311\u001b[0m x_type \u001b[38;5;241m=\u001b[39m \u001b[38;5;28;01mNone\u001b[39;00m \u001b[38;5;28;01mif\u001b[39;00m x \u001b[38;5;129;01mis\u001b[39;00m \u001b[38;5;28;01mNone\u001b[39;00m \u001b[38;5;28;01melse\u001b[39;00m variable_type(x)\n\u001b[0;32m-> 1312\u001b[0m y_type \u001b[38;5;241m=\u001b[39m \u001b[38;5;28;01mNone\u001b[39;00m \u001b[38;5;28;01mif\u001b[39;00m y \u001b[38;5;129;01mis\u001b[39;00m \u001b[38;5;28;01mNone\u001b[39;00m \u001b[38;5;28;01melse\u001b[39;00m \u001b[43mvariable_type\u001b[49m\u001b[43m(\u001b[49m\u001b[43my\u001b[49m\u001b[43m)\u001b[49m\n\u001b[1;32m   1314\u001b[0m nonnumeric_dv_error \u001b[38;5;241m=\u001b[39m \u001b[38;5;124m\"\u001b[39m\u001b[38;5;132;01m{}\u001b[39;00m\u001b[38;5;124m orientation requires numeric `\u001b[39m\u001b[38;5;132;01m{}\u001b[39;00m\u001b[38;5;124m` variable.\u001b[39m\u001b[38;5;124m\"\u001b[39m\n\u001b[1;32m   1315\u001b[0m single_var_warning \u001b[38;5;241m=\u001b[39m \u001b[38;5;124m\"\u001b[39m\u001b[38;5;132;01m{}\u001b[39;00m\u001b[38;5;124m orientation ignored with only `\u001b[39m\u001b[38;5;132;01m{}\u001b[39;00m\u001b[38;5;124m` specified.\u001b[39m\u001b[38;5;124m\"\u001b[39m\n",
      "File \u001b[0;32m/opt/conda/miniconda3/lib/python3.8/site-packages/seaborn/_core.py:1229\u001b[0m, in \u001b[0;36mvariable_type\u001b[0;34m(vector, boolean_type)\u001b[0m\n\u001b[1;32m   1226\u001b[0m     \u001b[38;5;28;01mreturn\u001b[39;00m \u001b[38;5;124m\"\u001b[39m\u001b[38;5;124mcategorical\u001b[39m\u001b[38;5;124m\"\u001b[39m\n\u001b[1;32m   1228\u001b[0m \u001b[38;5;66;03m# Special-case all-na data, which is always \"numeric\"\u001b[39;00m\n\u001b[0;32m-> 1229\u001b[0m \u001b[38;5;28;01mif\u001b[39;00m pd\u001b[38;5;241m.\u001b[39misna(vector)\u001b[38;5;241m.\u001b[39mall():\n\u001b[1;32m   1230\u001b[0m     \u001b[38;5;28;01mreturn\u001b[39;00m \u001b[38;5;124m\"\u001b[39m\u001b[38;5;124mnumeric\u001b[39m\u001b[38;5;124m\"\u001b[39m\n\u001b[1;32m   1232\u001b[0m \u001b[38;5;66;03m# Special-case binary/boolean data, allow caller to determine\u001b[39;00m\n\u001b[1;32m   1233\u001b[0m \u001b[38;5;66;03m# This triggers a numpy warning when vector has strings/objects\u001b[39;00m\n\u001b[1;32m   1234\u001b[0m \u001b[38;5;66;03m# https://github.com/numpy/numpy/issues/6784\u001b[39;00m\n\u001b[0;32m   (...)\u001b[0m\n\u001b[1;32m   1238\u001b[0m \u001b[38;5;66;03m# https://github.com/numpy/numpy/issues/13548\u001b[39;00m\n\u001b[1;32m   1239\u001b[0m \u001b[38;5;66;03m# This is considered a bug by numpy and will likely go away.\u001b[39;00m\n",
      "File \u001b[0;32m/opt/conda/miniconda3/lib/python3.8/site-packages/pandas/core/generic.py:1442\u001b[0m, in \u001b[0;36mNDFrame.__nonzero__\u001b[0;34m(self)\u001b[0m\n\u001b[1;32m   1440\u001b[0m \u001b[38;5;129m@final\u001b[39m\n\u001b[1;32m   1441\u001b[0m \u001b[38;5;28;01mdef\u001b[39;00m \u001b[38;5;21m__nonzero__\u001b[39m(\u001b[38;5;28mself\u001b[39m):\n\u001b[0;32m-> 1442\u001b[0m     \u001b[38;5;28;01mraise\u001b[39;00m \u001b[38;5;167;01mValueError\u001b[39;00m(\n\u001b[1;32m   1443\u001b[0m         \u001b[38;5;124mf\u001b[39m\u001b[38;5;124m\"\u001b[39m\u001b[38;5;124mThe truth value of a \u001b[39m\u001b[38;5;132;01m{\u001b[39;00m\u001b[38;5;28mtype\u001b[39m(\u001b[38;5;28mself\u001b[39m)\u001b[38;5;241m.\u001b[39m\u001b[38;5;18m__name__\u001b[39m\u001b[38;5;132;01m}\u001b[39;00m\u001b[38;5;124m is ambiguous. \u001b[39m\u001b[38;5;124m\"\u001b[39m\n\u001b[1;32m   1444\u001b[0m         \u001b[38;5;124m\"\u001b[39m\u001b[38;5;124mUse a.empty, a.bool(), a.item(), a.any() or a.all().\u001b[39m\u001b[38;5;124m\"\u001b[39m\n\u001b[1;32m   1445\u001b[0m     )\n",
      "\u001b[0;31mValueError\u001b[0m: The truth value of a Series is ambiguous. Use a.empty, a.bool(), a.item(), a.any() or a.all()."
     ]
    },
    {
     "data": {
      "text/plain": [
       "<Figure size 640x480 with 0 Axes>"
      ]
     },
     "metadata": {},
     "output_type": "display_data"
    }
   ],
   "source": [
    "import seaborn as sns \n",
    "text_dups_list = []\n",
    "df_dups_text_20, records, dups = getJaccardBarChart(df_hashed_text_joined, 0.2)\n",
    "text_dups_list.append([records, dups, records - dups, 0.2])\n",
    "\n",
    "df_dups_text_40, records, dups = getJaccardBarChart(df_hashed_text_joined, 0.4)\n",
    "text_dups_list.append([records, dups, records - dups, 0.4])\n",
    "\n",
    "df_dups_text_50, records, dups = getJaccardBarChart(df_hashed_text_joined, 0.5)\n",
    "text_dups_list.append([records, dups, records - dups, 0.5])\n",
    "\n",
    "df_dups_text_60, records, dups = getJaccardBarChart(df_hashed_text_joined, 0.6)\n",
    "text_dups_list.append([records, dups, records - dups, 0.6])\n",
    "\n",
    "df_dups_text_70, records, dups = getJaccardBarChart(df_hashed_text_joined, 0.7)\n",
    "text_dups_list.append([records, dups, records - dups, 0.7])\n",
    "\n",
    "df_duplicates = pd.DataFrame(text_dups_list, columns = ['counts', 'dups', 'unique', 'threshold'])\n",
    "#plt.tight_layout()\n",
    "#sns.barplot(y=['unique','dups'],x=\"threshold\",data=df_duplicates,palette=\"Spectral\",title=\"Tweets Duplication Analysis\")\n",
    "#df_duplicates.plot(x = 'threshold', y = ['unique','dups'], kind = 'bar', title = \"Tweets Duplication Analysis\")\n",
    "#plt.show()"
   ]
  },
  {
   "cell_type": "code",
   "execution_count": 32,
   "id": "1cf80123-d661-4da4-a1fc-260c81570aba",
   "metadata": {},
   "outputs": [
    {
     "data": {
      "text/plain": [
       "<Figure size 640x480 with 0 Axes>"
      ]
     },
     "metadata": {},
     "output_type": "display_data"
    },
    {
     "data": {
      "image/png": "[encoded data removed]",
      "text/plain": [
       "<Figure size 640x480 with 1 Axes>"
      ]
     },
     "metadata": {},
     "output_type": "display_data"
    }
   ],
   "source": [
    "plt.tight_layout()\n",
    "df_duplicates.plot(x = 'threshold', y = ['unique','dups'], kind = 'bar', title = \"Tweets Duplication Analysis\",color=[\"red\",\"orange\"])\n",
    "plt.show()\n"
   ]
  },
  {
   "cell_type": "markdown",
   "id": "faaddc62-9c24-4772-a794-afc583771c7e",
   "metadata": {},
   "source": [
    "--> We can see that the messages are almost all unique with a few exceptions. Looks like people are not copy-pasting the same thing. "
   ]
  },
  {
   "cell_type": "code",
   "execution_count": null,
   "id": "17df47e1-1b91-444f-b9bb-3989766675e7",
   "metadata": {},
   "outputs": [],
   "source": []
  }
 ],
 "metadata": {
  "kernelspec": {
   "display_name": "Python 3 (ipykernel)",
   "language": "python",
   "name": "python3"
  },
  "language_info": {
   "codemirror_mode": {
    "name": "ipython",
    "version": 3
   },
   "file_extension": ".py",
   "mimetype": "text/x-python",
   "name": "python",
   "nbconvert_exporter": "python",
   "pygments_lexer": "ipython3",
   "version": "3.9.7"
  }
 },
 "nbformat": 4,
 "nbformat_minor": 5
}
